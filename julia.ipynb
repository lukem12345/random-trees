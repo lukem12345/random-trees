{
 "cells": [
  {
   "cell_type": "code",
   "execution_count": 11,
   "id": "ec659b7e",
   "metadata": {},
   "outputs": [
    {
     "ename": "LoadError",
     "evalue": "syntax: unexpected \"end\"",
     "output_type": "error",
     "traceback": [
      "syntax: unexpected \"end\"",
      "",
      "Stacktrace:",
      " [1] top-level scope",
      "   @ In[11]:15"
     ]
    }
   ],
   "source": [
    "using Random\n",
    "\n",
    "function print_tree_edges(prufer, m)\n",
    "    vertices = m+2\n",
    "    vertex_set = zeros(vertices)\n",
    "    \n",
    "    for i in eachindex(vertex_set)\n",
    "        vertex_set[prufer[i]] +=1\n",
    "    end\n",
    "    \n",
    "    for i in 1:vertices-2\n",
    "        for j in 1:vertices\n",
    "            if vertex_set[j] ==0\n",
    "                vertex_set[j] = -1\n",
    "                print(\"({}, {})\".format(j+1, prufer[i]), end=\" \")\n",
    "                \n",
    "                vertex_set[prufer[i]] -= 1\n",
    "            end\n",
    "        end\n",
    "    end\n",
    "    \n",
    "    j=0\n",
    "    \n",
    "    for i in eachindex(vertices)\n",
    "        if vertex_set[i] ==0 && j ==0\n",
    "            print(\"{},\".format(i+1), end=\" \")\n",
    "            j +=1\n",
    "        elseif vertex_set[i]==0 && j==1\n",
    "            print(\"{}\".format(i+1), end=\" \")\n",
    "        end\n",
    "    end\n",
    "end\n",
    "\n",
    "function generate_random_tree(n):\n",
    "    length = n-2\n",
    "    arr = [0] * length\n",
    "    \n",
    "    for i in eachindex(length):\n",
    "        arr[i] = random.randint(1, length+1)\n",
    "    end\n",
    "    \n",
    "    print_tree_edges(arr,length)\n",
    "end\n",
    "\n",
    "n = 5\n",
    "\n",
    "generate_random_tree(n)"
   ]
  }
 ],
 "metadata": {
  "kernelspec": {
   "display_name": "Julia 1.8.5",
   "language": "julia",
   "name": "julia-1.8"
  },
  "language_info": {
   "file_extension": ".jl",
   "mimetype": "application/julia",
   "name": "julia",
   "version": "1.8.5"
  }
 },
 "nbformat": 4,
 "nbformat_minor": 5
}

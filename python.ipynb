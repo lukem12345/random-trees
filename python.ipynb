{
 "cells": [
  {
   "cell_type": "code",
   "execution_count": 28,
   "id": "b94a37c1",
   "metadata": {},
   "outputs": [
    {
     "name": "stdout",
     "output_type": "stream",
     "text": [
      "[2, 2, 3]\n",
      "\n",
      "The edge set E(G) is:\n",
      "(1, 2) (4, 2) (2, 3) (3, 5)\n"
     ]
    }
   ],
   "source": [
    "import random\n",
    "\n",
    "def print_tree_edges(prufer, m):\n",
    "\tvertices = m + 2\n",
    "\tvertex_set = [0] * vertices\n",
    "\n",
    "\t# Initialize the array of vertices\n",
    "\tfor i in range(vertices):\n",
    "\t\tvertex_set[i] = 0\n",
    "\n",
    "\t# Number of occurrences of vertex in code\n",
    "\tfor i in range(vertices - 2):\n",
    "\t\tvertex_set[prufer[i] - 1] += 1\n",
    "\n",
    "\tprint(\"\\nThe edge set E(G) is:\")\n",
    "\n",
    "\tj = 0\n",
    "\n",
    "\t# Find the smallest label not present in prufer[].\n",
    "\tfor i in range(vertices - 2):\n",
    "\t\tfor j in range(vertices):\n",
    "\t\t\t# If j+1 is not present in prufer set\n",
    "\t\t\tif vertex_set[j] == 0:\n",
    "\t\t\t\t# Remove from Prufer set and print pair.\n",
    "\t\t\t\tvertex_set[j] = -1\n",
    "\t\t\t\tprint(\"({}, {})\".format(j + 1, prufer[i]), end=\" \")\n",
    "\n",
    "\t\t\t\tvertex_set[prufer[i] - 1] -= 1\n",
    "\n",
    "\t\t\t\tbreak\n",
    "\n",
    "\tj = 0\n",
    "\n",
    "\t# For the last element\n",
    "\tfor i in range(vertices):\n",
    "\t\tif vertex_set[i] == 0 and j == 0:\n",
    "\t\t\tprint(\"({}, \".format(i + 1), end=\"\")\n",
    "\t\t\tj += 1\n",
    "\t\telif vertex_set[i] == 0 and j == 1:\n",
    "\t\t\tprint(\"{})\".format(i + 1))\n",
    "\n",
    "def generate_random_tree(n):\n",
    "    length = n - 2\n",
    "    arr = [0] * length\n",
    "\n",
    "    # Generate random array\n",
    "    for i in range(length):\n",
    "        arr[i] = random.randint(1, length + 1)\n",
    "        \n",
    "    print(arr)\n",
    "\n",
    "    print_tree_edges(arr, length)\n",
    "\n",
    "# Driver code\n",
    "n = 5\n",
    "generate_random_tree(n)\n"
   ]
  }
 ],
 "metadata": {
  "kernelspec": {
   "display_name": "Python 3 (ipykernel)",
   "language": "python",
   "name": "python3"
  },
  "language_info": {
   "codemirror_mode": {
    "name": "ipython",
    "version": 3
   },
   "file_extension": ".py",
   "mimetype": "text/x-python",
   "name": "python",
   "nbconvert_exporter": "python",
   "pygments_lexer": "ipython3",
   "version": "3.8.16"
  }
 },
 "nbformat": 4,
 "nbformat_minor": 5
}
